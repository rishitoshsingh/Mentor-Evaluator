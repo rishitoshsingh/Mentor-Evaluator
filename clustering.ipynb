{
 "cells": [
  {
   "cell_type": "code",
   "execution_count": 1,
   "metadata": {},
   "outputs": [],
   "source": [
    "import os\n",
    "batch_files = os.listdir('predictions/')\n",
    "batch_files = sorted(batch_files, key=lambda x: int(x.split('.')[0]))"
   ]
  },
  {
   "cell_type": "code",
   "execution_count": 2,
   "metadata": {},
   "outputs": [],
   "source": [
    "import joblib\n",
    "import numpy as np\n",
    "\n",
    "features = None\n",
    "for batch_file in batch_files:\n",
    "    batch = joblib.load(os.path.join('predictions', batch_file))\n",
    "    if features is not None:\n",
    "        features = np.vstack((features, batch['prediction']))\n",
    "    else:\n",
    "        features = batch['prediction']"
   ]
  },
  {
   "cell_type": "code",
   "execution_count": 3,
   "metadata": {},
   "outputs": [
    {
     "data": {
      "text/plain": [
       "(7936, 512)"
      ]
     },
     "execution_count": 3,
     "metadata": {},
     "output_type": "execute_result"
    }
   ],
   "source": [
    "features.shape"
   ]
  },
  {
   "cell_type": "code",
   "execution_count": 4,
   "metadata": {},
   "outputs": [],
   "source": [
    "from sklearn.preprocessing import StandardScaler\n",
    "standard_scaler = StandardScaler()\n",
    "features = standard_scaler.fit_transform(features)"
   ]
  },
  {
   "cell_type": "code",
   "execution_count": 5,
   "metadata": {},
   "outputs": [],
   "source": [
    "from sklearn.cluster import KMeans\n",
    "\n",
    "def find_cluster(data, n_clusters):\n",
    "    for n in range(2, n_clusters):\n",
    "        model = KMeans(n_clusters=n)\n",
    "        model.fit(data)\n",
    "        yield model.inertia_"
   ]
  },
  {
   "cell_type": "code",
   "execution_count": 6,
   "metadata": {},
   "outputs": [
    {
     "data": {
      "image/png": "[encoded data removed]",
      "text/plain": [
       "<Figure size 432x288 with 1 Axes>"
      ]
     },
     "metadata": {
      "needs_background": "light"
     },
     "output_type": "display_data"
    }
   ],
   "source": [
    "from IPython.display import clear_output\n",
    "import matplotlib.pyplot as plt\n",
    "\n",
    "inertias = []\n",
    "max_n = 6\n",
    "for inertia in find_cluster(features, max_n):\n",
    "    inertias.append(inertia)\n",
    "    clear_output()\n",
    "    plt.plot(2+np.array(range(len(inertias))), inertias)\n",
    "    plt.show()\n"
   ]
  },
  {
   "cell_type": "code",
   "execution_count": 7,
   "metadata": {},
   "outputs": [
    {
     "name": "stdout",
     "output_type": "stream",
     "text": [
      "Cumulative variance explained by 2 principal components: 21.10%\n"
     ]
    }
   ],
   "source": [
    "from sklearn.decomposition import PCA\n",
    "\n",
    "pca_2 = PCA(n_components=2)\n",
    "features = pca_2.fit_transform(features)\n",
    "print('Cumulative variance explained by 2 principal components: {:.2%}'.format(np.sum(pca_2.explained_variance_ratio_)))"
   ]
  },
  {
   "cell_type": "code",
   "execution_count": 8,
   "metadata": {},
   "outputs": [
    {
     "data": {
      "image/png": "[encoded data removed]",
      "text/plain": [
       "<Figure size 432x288 with 1 Axes>"
      ]
     },
     "metadata": {
      "needs_background": "light"
     },
     "output_type": "display_data"
    }
   ],
   "source": [
    "inertias = []\n",
    "max_n = 6\n",
    "for inertia in find_cluster(features, max_n):\n",
    "    inertias.append(inertia)\n",
    "    clear_output()\n",
    "    plt.plot(2+np.array(range(len(inertias))), inertias)\n",
    "    plt.show()\n"
   ]
  },
  {
   "cell_type": "code",
   "execution_count": 9,
   "metadata": {},
   "outputs": [
    {
     "data": {
      "text/plain": [
       "KMeans(n_clusters=3)"
      ]
     },
     "execution_count": 9,
     "metadata": {},
     "output_type": "execute_result"
    }
   ],
   "source": [
    "model = KMeans(n_clusters=3)\n",
    "model.fit(features)"
   ]
  },
  {
   "cell_type": "code",
   "execution_count": 12,
   "metadata": {},
   "outputs": [],
   "source": [
    "def load_images():\n",
    "    for batch_file in batch_files:\n",
    "        batch = joblib.load(os.path.join('predictions', batch_file))\n",
    "        yield (batch['batch'], batch['prediction'])"
   ]
  },
  {
   "cell_type": "code",
   "execution_count": null,
   "metadata": {},
   "outputs": [],
   "source": [
    "for i in range(model.n_clusters):\n",
    "    os.mkdir('clusters/{}'.format(i))"
   ]
  },
  {
   "cell_type": "code",
   "execution_count": 19,
   "metadata": {},
   "outputs": [],
   "source": [
    "import cv2\n",
    "image_index = 1\n",
    "for image_batch, features_batch in load_images():\n",
    "    features = standard_scaler.transform(features_batch)\n",
    "    features = pca_2.transform(features)\n",
    "    y_s = model.predict(features)\n",
    "    for image, y in zip(image_batch, y_s):\n",
    "        cv2.imwrite('clusters/{}/{}.jpg'.format(y, image_index),image)\n",
    "        image_index += 1"
   ]
  },
  {
   "cell_type": "code",
   "execution_count": null,
   "metadata": {},
   "outputs": [],
   "source": []
  }
 ],
 "metadata": {
  "interpreter": {
   "hash": "faa86b6e87891aa0953b9ee5c621d9e2b331f133002a17c98557bb42107344d7"
  },
  "kernelspec": {
   "display_name": "Python 3.7.12 64-bit ('env': venv)",
   "name": "python3"
  },
  "language_info": {
   "codemirror_mode": {
    "name": "ipython",
    "version": 3
   },
   "file_extension": ".py",
   "mimetype": "text/x-python",
   "name": "python",
   "nbconvert_exporter": "python",
   "pygments_lexer": "ipython3",
   "version": "3.7.12"
  },
  "orig_nbformat": 4
 },
 "nbformat": 4,
 "nbformat_minor": 2
}
