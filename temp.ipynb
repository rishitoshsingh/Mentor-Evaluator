{
 "cells": [
  {
   "cell_type": "code",
   "execution_count": 58,
   "metadata": {},
   "outputs": [],
   "source": [
    "import json\n",
    "\n",
    "with open('configs/motion_location.json','r') as file:\n",
    "    content_config = json.load(file)\n",
    "\n",
    "import os\n",
    "from datetime import datetime, timedelta\n",
    "import numpy as np\n",
    "import pandas as pd\n",
    "import utils\n",
    "\n",
    "target_shape = (224,224,3)\n",
    "\n",
    "slides_path = 'slides/'\n",
    "slide_files = sorted(os.listdir(slides_path), key=lambda x: int(x.split('.')[0][4:]))\n",
    "slide_files = [os.path.join(slides_path, x) for x in slide_files]\n",
    "\n",
    "org_slides, slides = utils.load_slides(slide_files, target_shape, content_config)"
   ]
  },
  {
   "cell_type": "code",
   "execution_count": 59,
   "metadata": {},
   "outputs": [],
   "source": [
    "def compare_time(t1, t2):\n",
    "    if t1 is np.nan or t2 is np.nan:\n",
    "        return False\n",
    "    try:\n",
    "        t1 = datetime.strptime(t1,\"%H:%M:%S\")\n",
    "        t2 = datetime.strptime(t2,\"%H:%M:%S\")\n",
    "    except:\n",
    "        return False\n",
    "    return t1 >= t2"
   ]
  },
  {
   "cell_type": "code",
   "execution_count": 60,
   "metadata": {},
   "outputs": [
    {
     "data": {
      "text/plain": [
       "47"
      ]
     },
     "execution_count": 60,
     "metadata": {},
     "output_type": "execute_result"
    }
   ],
   "source": [
    "len(slide_files)"
   ]
  },
  {
   "cell_type": "code",
   "execution_count": 61,
   "metadata": {},
   "outputs": [],
   "source": [
    "def _merge_times(slides, slide_time, code_time):\n",
    "    start_i = 0\n",
    "    inserted = False\n",
    "    for c_t in code_time:\n",
    "        for i in range(start_i, len(slide_time)):\n",
    "            if compare_time(slide_time[i], c_t):\n",
    "                slide_time.insert(i, c_t)\n",
    "                if slides[i] != 'templates/colab/colab.jpg':\n",
    "                    slides.insert(i, 'templates/colab/colab.jpg')\n",
    "                start_i = i\n",
    "                inserted = True\n",
    "                break\n",
    "        \n",
    "        if inserted == False:\n",
    "            slide_time.append(c_t)\n",
    "            if slides[-1] != 'templates/colab/colab.jpg':\n",
    "                slides.append('templates/colab/colab.jpg')\n",
    "                \n",
    "        else: \n",
    "            inserted = False\n",
    "    return slides, slide_time"
   ]
  },
  {
   "cell_type": "code",
   "execution_count": 62,
   "metadata": {},
   "outputs": [],
   "source": [
    "import joblib\n",
    "end_timestamps = joblib.load('end_timestamps.pkl')\n",
    "start_timestamps = ['0:0:0'] + end_timestamps[:-1] \n",
    "# code_start = ['1:0:2', '1:4:37']\n",
    "# code_end = ['1:4:39','1:13:20']\n",
    "code_start = ['0:29:00', '0:31:00']\n",
    "code_end = ['0:47:00','0:53:00']"
   ]
  },
  {
   "cell_type": "code",
   "execution_count": 63,
   "metadata": {},
   "outputs": [
    {
     "data": {
      "text/plain": [
       "47"
      ]
     },
     "execution_count": 63,
     "metadata": {},
     "output_type": "execute_result"
    }
   ],
   "source": [
    "len(start_timestamps)"
   ]
  },
  {
   "cell_type": "code",
   "execution_count": 64,
   "metadata": {},
   "outputs": [],
   "source": [
    "slide_files, start_timestamps = _merge_times(slide_files, start_timestamps, code_start)"
   ]
  },
  {
   "cell_type": "code",
   "execution_count": 65,
   "metadata": {},
   "outputs": [
    {
     "data": {
      "text/plain": [
       "49"
      ]
     },
     "execution_count": 65,
     "metadata": {},
     "output_type": "execute_result"
    }
   ],
   "source": [
    "len(slide_files)"
   ]
  },
  {
   "cell_type": "code",
   "execution_count": 66,
   "metadata": {},
   "outputs": [
    {
     "data": {
      "text/plain": [
       "49"
      ]
     },
     "execution_count": 66,
     "metadata": {},
     "output_type": "execute_result"
    }
   ],
   "source": [
    "len(start_timestamps)"
   ]
  },
  {
   "cell_type": "code",
   "execution_count": 67,
   "metadata": {},
   "outputs": [],
   "source": [
    "slide_files, end_timestamps = _merge_times(slide_files, end_timestamps, code_end)"
   ]
  },
  {
   "cell_type": "code",
   "execution_count": 68,
   "metadata": {},
   "outputs": [
    {
     "data": {
      "text/plain": [
       "49"
      ]
     },
     "execution_count": 68,
     "metadata": {},
     "output_type": "execute_result"
    }
   ],
   "source": [
    "len(end_timestamps)"
   ]
  },
  {
   "cell_type": "code",
   "execution_count": 69,
   "metadata": {},
   "outputs": [
    {
     "data": {
      "text/plain": [
       "51"
      ]
     },
     "execution_count": 69,
     "metadata": {},
     "output_type": "execute_result"
    }
   ],
   "source": [
    "len(slide_files)"
   ]
  }
 ],
 "metadata": {
  "interpreter": {
   "hash": "faa86b6e87891aa0953b9ee5c621d9e2b331f133002a17c98557bb42107344d7"
  },
  "kernelspec": {
   "display_name": "Python 3.7.12 64-bit ('env': venv)",
   "name": "python3"
  },
  "language_info": {
   "codemirror_mode": {
    "name": "ipython",
    "version": 3
   },
   "file_extension": ".py",
   "mimetype": "text/x-python",
   "name": "python",
   "nbconvert_exporter": "python",
   "pygments_lexer": "ipython3",
   "version": "3.7.12"
  },
  "orig_nbformat": 4
 },
 "nbformat": 4,
 "nbformat_minor": 2
}
