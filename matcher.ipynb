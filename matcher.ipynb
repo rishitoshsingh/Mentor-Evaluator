{
 "cells": [
  {
   "cell_type": "code",
   "execution_count": 24,
   "metadata": {},
   "outputs": [],
   "source": [
    "import os\n",
    "import numpy as np\n",
    "import cv2"
   ]
  },
  {
   "cell_type": "code",
   "execution_count": 6,
   "metadata": {},
   "outputs": [],
   "source": [
    "slides_path = 'slides/'\n",
    "scenes_path = 'scenes/'"
   ]
  },
  {
   "cell_type": "code",
   "execution_count": 1,
   "metadata": {},
   "outputs": [
    {
     "name": "stderr",
     "output_type": "stream",
     "text": [
      "2021-10-19 13:17:08.326121: E tensorflow/stream_executor/cuda/cuda_driver.cc:271] failed call to cuInit: CUDA_ERROR_NO_DEVICE: no CUDA-capable device is detected\n",
      "2021-10-19 13:17:08.326231: I tensorflow/stream_executor/cuda/cuda_diagnostics.cc:156] kernel driver does not appear to be running on this host (anton): /proc/driver/nvidia/version does not exist\n",
      "2021-10-19 13:17:08.327687: I tensorflow/core/platform/cpu_feature_guard.cc:142] This TensorFlow binary is optimized with oneAPI Deep Neural Network Library (oneDNN) to use the following CPU instructions in performance-critical operations:  AVX2 FMA\n",
      "To enable them in other operations, rebuild TensorFlow with the appropriate compiler flags.\n"
     ]
    }
   ],
   "source": [
    "from tensorflow.keras.applications import VGG16\n",
    "target_shape = (224,224,3)\n",
    "vgg = VGG16(\n",
    "    include_top=False,\n",
    "    weights='imagenet',\n",
    "    input_shape=target_shape,\n",
    "    pooling='avg')"
   ]
  },
  {
   "cell_type": "code",
   "execution_count": 2,
   "metadata": {},
   "outputs": [],
   "source": [
    "vgg.trainable = False"
   ]
  },
  {
   "cell_type": "code",
   "execution_count": 3,
   "metadata": {},
   "outputs": [],
   "source": [
    "import tensorflow as tf\n",
    "from tensorflow.keras.layers import Input, Flatten\n",
    "from tensorflow.keras.applications.vgg16 import preprocess_input\n",
    "from tensorflow.keras.models import Model\n",
    "\n",
    "input_layer = Input(target_shape, dtype = tf.uint8)\n",
    "y = tf.cast(input_layer, tf.float32)\n",
    "y = preprocess_input(y)\n",
    "\n",
    "y = vgg(y)\n",
    "model = Model(inputs=input_layer, outputs=y)"
   ]
  },
  {
   "cell_type": "code",
   "execution_count": 25,
   "metadata": {},
   "outputs": [],
   "source": [
    "slides = sorted(os.listdir(slides_path), key=lambda x: int(x.split('.')[0][4:]))\n",
    "slides = [os.path.join(slides_path, x) for x in slides]\n",
    "scenes = sorted(os.listdir(scenes_path), key=lambda x: int(x.replace('-','').split('.')[0][6:]))\n",
    "scenes = [os.path.join(scenes_path, x) for x in scenes]"
   ]
  },
  {
   "cell_type": "code",
   "execution_count": 27,
   "metadata": {},
   "outputs": [],
   "source": [
    "def load_images(files):\n",
    "    images = np.zeros((len(files),)+target_shape)\n",
    "    for i, file in enumerate(files):\n",
    "        image = cv2.imread(file)\n",
    "        image = cv2.resize(image, target_shape[:-1])\n",
    "        images[i] = image\n",
    "    return images"
   ]
  },
  {
   "cell_type": "code",
   "execution_count": 29,
   "metadata": {},
   "outputs": [],
   "source": [
    "slides = load_images(slides)\n",
    "scenes = load_images(scenes)"
   ]
  },
  {
   "cell_type": "code",
   "execution_count": null,
   "metadata": {},
   "outputs": [],
   "source": []
  },
  {
   "cell_type": "code",
   "execution_count": 33,
   "metadata": {},
   "outputs": [
    {
     "name": "stderr",
     "output_type": "stream",
     "text": [
      "2021-10-19 13:30:33.309552: I tensorflow/compiler/mlir/mlir_graph_optimization_pass.cc:185] None of the MLIR Optimization Passes are enabled (registered 2)\n"
     ]
    }
   ],
   "source": [
    "slides_feature = model.predict(slides)\n",
    "scenes_feature = model.predict(scenes)"
   ]
  },
  {
   "cell_type": "code",
   "execution_count": 35,
   "metadata": {},
   "outputs": [],
   "source": [
    "from sklearn.metrics.pairwise import cosine_similarity"
   ]
  },
  {
   "cell_type": "code",
   "execution_count": 48,
   "metadata": {},
   "outputs": [],
   "source": [
    "sim = cosine_similarity(slides_feature, scenes_feature)"
   ]
  },
  {
   "cell_type": "code",
   "execution_count": 49,
   "metadata": {},
   "outputs": [
    {
     "data": {
      "text/plain": [
       "(19, 512)"
      ]
     },
     "execution_count": 49,
     "metadata": {},
     "output_type": "execute_result"
    }
   ],
   "source": [
    "slides_feature.shape\n",
    "scenes_feature.shape"
   ]
  },
  {
   "cell_type": "code",
   "execution_count": 57,
   "metadata": {},
   "outputs": [
    {
     "name": "stdout",
     "output_type": "stream",
     "text": [
      "[0.88272905 0.35927534 0.66365194 0.5111425  0.63732404 0.327524\n",
      " 0.8211046  0.77427137 0.8107807  0.53656965 0.41712072 0.4170742\n",
      " 0.37175384 0.76142424 0.79292506 0.80029213 0.7677723  0.72331154\n",
      " 0.41841915]\n"
     ]
    },
    {
     "data": {
      "text/plain": [
       "array([ 0,  6,  8, 15, 14,  7, 16, 13, 17,  2,  4,  9,  3, 18, 10, 11, 12,\n",
       "        1,  5])"
      ]
     },
     "execution_count": 57,
     "metadata": {},
     "output_type": "execute_result"
    }
   ],
   "source": [
    "slide_no = 3\n",
    "print(sim[slide_no])\n",
    "sim[slide_no].argsort()[::-1]"
   ]
  },
  {
   "cell_type": "code",
   "execution_count": null,
   "metadata": {},
   "outputs": [],
   "source": []
  }
 ],
 "metadata": {
  "interpreter": {
   "hash": "faa86b6e87891aa0953b9ee5c621d9e2b331f133002a17c98557bb42107344d7"
  },
  "kernelspec": {
   "display_name": "Python 3.7.12 64-bit ('env': venv)",
   "name": "python3"
  },
  "language_info": {
   "codemirror_mode": {
    "name": "ipython",
    "version": 3
   },
   "file_extension": ".py",
   "mimetype": "text/x-python",
   "name": "python",
   "nbconvert_exporter": "python",
   "pygments_lexer": "ipython3",
   "version": "3.7.12"
  },
  "orig_nbformat": 4
 },
 "nbformat": 4,
 "nbformat_minor": 2
}
